{
 "cells": [
  {
   "cell_type": "markdown",
   "id": "c3ed2077",
   "metadata": {},
   "source": [
    "### Maximum Likelihood Estimate (MLE)\n",
    "\n",
    "In statistics, maximum likelihood estimation (MLE) is a method of estimating the parameters of an assumed probability distribution, given some observed data. This is achieved by maximizing a likelihood function so that, under the assumed statistical model, the observed data is most probable. The point in the parameter space that maximizes the likelihood function is called the maximum likelihood estimate. The logic of maximum likelihood is both intuitive and flexible, and as such the method has become a dominant means of statistical inference."
   ]
  },
  {
   "cell_type": "code",
   "execution_count": 1,
   "id": "971d7efb",
   "metadata": {},
   "outputs": [],
   "source": [
    "import pandas as pd\n",
    "import numpy as np\n",
    "import matplotlib.pyplot as plt\n",
    "%matplotlib inline\n",
    "import seaborn as sns\n",
    "from scipy.optimize import newton"
   ]
  },
  {
   "cell_type": "markdown",
   "id": "6b60f17f",
   "metadata": {},
   "source": [
    "Using uc_index file which contains the record of 25 years."
   ]
  },
  {
   "cell_type": "code",
   "execution_count": 2,
   "id": "45bb5dc6",
   "metadata": {},
   "outputs": [
    {
     "data": {
      "text/html": [
       "<div>\n",
       "<style scoped>\n",
       "    .dataframe tbody tr th:only-of-type {\n",
       "        vertical-align: middle;\n",
       "    }\n",
       "\n",
       "    .dataframe tbody tr th {\n",
       "        vertical-align: top;\n",
       "    }\n",
       "\n",
       "    .dataframe thead th {\n",
       "        text-align: right;\n",
       "    }\n",
       "</style>\n",
       "<table border=\"1\" class=\"dataframe\">\n",
       "  <thead>\n",
       "    <tr style=\"text-align: right;\">\n",
       "      <th></th>\n",
       "      <th>Jan</th>\n",
       "      <th>Feb</th>\n",
       "      <th>Mar</th>\n",
       "      <th>Apr</th>\n",
       "      <th>May</th>\n",
       "      <th>Jun</th>\n",
       "      <th>Jul</th>\n",
       "      <th>Aug</th>\n",
       "      <th>Sep</th>\n",
       "      <th>Oct</th>\n",
       "      <th>Nov</th>\n",
       "      <th>Dec</th>\n",
       "    </tr>\n",
       "    <tr>\n",
       "      <th>Year</th>\n",
       "      <th></th>\n",
       "      <th></th>\n",
       "      <th></th>\n",
       "      <th></th>\n",
       "      <th></th>\n",
       "      <th></th>\n",
       "      <th></th>\n",
       "      <th></th>\n",
       "      <th></th>\n",
       "      <th></th>\n",
       "      <th></th>\n",
       "      <th></th>\n",
       "    </tr>\n",
       "  </thead>\n",
       "  <tbody>\n",
       "    <tr>\n",
       "      <th>1901</th>\n",
       "      <td>4.84</td>\n",
       "      <td>5.08</td>\n",
       "      <td>3.77</td>\n",
       "      <td>7.21</td>\n",
       "      <td>7.01</td>\n",
       "      <td>0.67</td>\n",
       "      <td>2.52</td>\n",
       "      <td>5.53</td>\n",
       "      <td>1.80</td>\n",
       "      <td>4.38</td>\n",
       "      <td>2.57</td>\n",
       "      <td>3.63</td>\n",
       "    </tr>\n",
       "    <tr>\n",
       "      <th>1902</th>\n",
       "      <td>3.65</td>\n",
       "      <td>8.85</td>\n",
       "      <td>3.09</td>\n",
       "      <td>2.43</td>\n",
       "      <td>2.23</td>\n",
       "      <td>3.68</td>\n",
       "      <td>5.85</td>\n",
       "      <td>2.17</td>\n",
       "      <td>2.31</td>\n",
       "      <td>1.23</td>\n",
       "      <td>1.52</td>\n",
       "      <td>2.94</td>\n",
       "    </tr>\n",
       "    <tr>\n",
       "      <th>1903</th>\n",
       "      <td>3.00</td>\n",
       "      <td>1.18</td>\n",
       "      <td>5.49</td>\n",
       "      <td>1.95</td>\n",
       "      <td>1.75</td>\n",
       "      <td>5.11</td>\n",
       "      <td>7.54</td>\n",
       "      <td>5.79</td>\n",
       "      <td>1.28</td>\n",
       "      <td>2.27</td>\n",
       "      <td>1.74</td>\n",
       "      <td>4.22</td>\n",
       "    </tr>\n",
       "    <tr>\n",
       "      <th>1904</th>\n",
       "      <td>1.92</td>\n",
       "      <td>3.85</td>\n",
       "      <td>6.85</td>\n",
       "      <td>3.95</td>\n",
       "      <td>3.75</td>\n",
       "      <td>0.77</td>\n",
       "      <td>7.73</td>\n",
       "      <td>1.84</td>\n",
       "      <td>1.28</td>\n",
       "      <td>1.68</td>\n",
       "      <td>5.31</td>\n",
       "      <td>1.92</td>\n",
       "    </tr>\n",
       "    <tr>\n",
       "      <th>1905</th>\n",
       "      <td>1.92</td>\n",
       "      <td>4.04</td>\n",
       "      <td>8.89</td>\n",
       "      <td>1.12</td>\n",
       "      <td>0.92</td>\n",
       "      <td>2.53</td>\n",
       "      <td>8.93</td>\n",
       "      <td>0.71</td>\n",
       "      <td>2.22</td>\n",
       "      <td>1.62</td>\n",
       "      <td>2.43</td>\n",
       "      <td>5.06</td>\n",
       "    </tr>\n",
       "    <tr>\n",
       "      <th>...</th>\n",
       "      <td>...</td>\n",
       "      <td>...</td>\n",
       "      <td>...</td>\n",
       "      <td>...</td>\n",
       "      <td>...</td>\n",
       "      <td>...</td>\n",
       "      <td>...</td>\n",
       "      <td>...</td>\n",
       "      <td>...</td>\n",
       "      <td>...</td>\n",
       "      <td>...</td>\n",
       "      <td>...</td>\n",
       "    </tr>\n",
       "    <tr>\n",
       "      <th>2011</th>\n",
       "      <td>7.18</td>\n",
       "      <td>8.67</td>\n",
       "      <td>2.70</td>\n",
       "      <td>10.63</td>\n",
       "      <td>10.43</td>\n",
       "      <td>0.99</td>\n",
       "      <td>3.27</td>\n",
       "      <td>7.80</td>\n",
       "      <td>3.76</td>\n",
       "      <td>2.50</td>\n",
       "      <td>3.77</td>\n",
       "      <td>3.32</td>\n",
       "    </tr>\n",
       "    <tr>\n",
       "      <th>2012</th>\n",
       "      <td>3.49</td>\n",
       "      <td>5.97</td>\n",
       "      <td>5.21</td>\n",
       "      <td>6.80</td>\n",
       "      <td>6.60</td>\n",
       "      <td>3.00</td>\n",
       "      <td>3.59</td>\n",
       "      <td>3.65</td>\n",
       "      <td>4.12</td>\n",
       "      <td>5.60</td>\n",
       "      <td>4.81</td>\n",
       "      <td>6.06</td>\n",
       "    </tr>\n",
       "    <tr>\n",
       "      <th>2010</th>\n",
       "      <td>2.80</td>\n",
       "      <td>4.04</td>\n",
       "      <td>4.30</td>\n",
       "      <td>0.93</td>\n",
       "      <td>0.73</td>\n",
       "      <td>3.82</td>\n",
       "      <td>2.79</td>\n",
       "      <td>0.54</td>\n",
       "      <td>6.77</td>\n",
       "      <td>0.72</td>\n",
       "      <td>2.89</td>\n",
       "      <td>2.59</td>\n",
       "    </tr>\n",
       "    <tr>\n",
       "      <th>2010</th>\n",
       "      <td>2.29</td>\n",
       "      <td>2.89</td>\n",
       "      <td>3.30</td>\n",
       "      <td>4.85</td>\n",
       "      <td>4.65</td>\n",
       "      <td>5.97</td>\n",
       "      <td>3.04</td>\n",
       "      <td>3.10</td>\n",
       "      <td>5.08</td>\n",
       "      <td>3.68</td>\n",
       "      <td>3.65</td>\n",
       "      <td>3.54</td>\n",
       "    </tr>\n",
       "    <tr>\n",
       "      <th>2015</th>\n",
       "      <td>2.47</td>\n",
       "      <td>2.04</td>\n",
       "      <td>2.66</td>\n",
       "      <td>3.20</td>\n",
       "      <td>3.00</td>\n",
       "      <td>2.72</td>\n",
       "      <td>1.87</td>\n",
       "      <td>1.09</td>\n",
       "      <td>1.26</td>\n",
       "      <td>5.65</td>\n",
       "      <td>5.80</td>\n",
       "      <td>3.96</td>\n",
       "    </tr>\n",
       "  </tbody>\n",
       "</table>\n",
       "<p>115 rows × 12 columns</p>\n",
       "</div>"
      ],
      "text/plain": [
       "       Jan   Feb   Mar    Apr    May   Jun   Jul   Aug   Sep   Oct   Nov   Dec\n",
       "Year                                                                          \n",
       "1901  4.84  5.08  3.77   7.21   7.01  0.67  2.52  5.53  1.80  4.38  2.57  3.63\n",
       "1902  3.65  8.85  3.09   2.43   2.23  3.68  5.85  2.17  2.31  1.23  1.52  2.94\n",
       "1903  3.00  1.18  5.49   1.95   1.75  5.11  7.54  5.79  1.28  2.27  1.74  4.22\n",
       "1904  1.92  3.85  6.85   3.95   3.75  0.77  7.73  1.84  1.28  1.68  5.31  1.92\n",
       "1905  1.92  4.04  8.89   1.12   0.92  2.53  8.93  0.71  2.22  1.62  2.43  5.06\n",
       "...    ...   ...   ...    ...    ...   ...   ...   ...   ...   ...   ...   ...\n",
       "2011  7.18  8.67  2.70  10.63  10.43  0.99  3.27  7.80  3.76  2.50  3.77  3.32\n",
       "2012  3.49  5.97  5.21   6.80   6.60  3.00  3.59  3.65  4.12  5.60  4.81  6.06\n",
       "2010  2.80  4.04  4.30   0.93   0.73  3.82  2.79  0.54  6.77  0.72  2.89  2.59\n",
       "2010  2.29  2.89  3.30   4.85   4.65  5.97  3.04  3.10  5.08  3.68  3.65  3.54\n",
       "2015  2.47  2.04  2.66   3.20   3.00  2.72  1.87  1.09  1.26  5.65  5.80  3.96\n",
       "\n",
       "[115 rows x 12 columns]"
      ]
     },
     "execution_count": 2,
     "metadata": {},
     "output_type": "execute_result"
    }
   ],
   "source": [
    "uv_index = pd.read_csv(\"uvindex.csv\",index_col=0)\n",
    "uv_index"
   ]
  },
  {
   "cell_type": "markdown",
   "id": "bcf362eb",
   "metadata": {},
   "source": [
    "The derivative of a function of a single variable at a chosen input value, when it exists, is the slope of the tangent line to the graph of the function at that point. The tangent line is the best linear approximation of the function near that input value."
   ]
  },
  {
   "cell_type": "code",
   "execution_count": 3,
   "id": "c6086608",
   "metadata": {},
   "outputs": [
    {
     "data": {
      "text/plain": [
       "Text(1.4706070287539936, -0.2, '$x_{n+1}$')"
      ]
     },
     "execution_count": 3,
     "metadata": {},
     "output_type": "execute_result"
    },
    {
     "data": {
      "image/png": "[encoded data removed]",
      "text/plain": [
       "<Figure size 432x288 with 1 Axes>"
      ]
     },
     "metadata": {
      "needs_background": "light"
     },
     "output_type": "display_data"
    }
   ],
   "source": [
    "# some function\n",
    "func = lambda x: 3./(1 + 400*np.exp(-2*x)) - 1\n",
    "xvals = np.linspace(0, 6)\n",
    "plt.plot(xvals, func(xvals))\n",
    "plt.text(5.3, 2.1, '$f(x)$', fontsize=16)\n",
    "\n",
    "# zero line\n",
    "plt.plot([0,6], [0,0], 'k-')\n",
    "\n",
    "# value at step n\n",
    "plt.plot([4,4], [0,func(4)], 'k:')\n",
    "plt.text(4, -.2, '$x_n$', fontsize=16)\n",
    "\n",
    "# tangent line\n",
    "tanline = lambda x: -0.858 + 0.626*x\n",
    "plt.plot(xvals, tanline(xvals), 'r--')\n",
    "\n",
    "# point at step n+1\n",
    "xprime = 0.858/0.626\n",
    "plt.plot([xprime, xprime], [tanline(xprime), func(xprime)], 'k:')\n",
    "plt.text(xprime+.1, -.2, '$x_{n+1}$', fontsize=16)"
   ]
  },
  {
   "cell_type": "markdown",
   "id": "557a15b6",
   "metadata": {},
   "source": [
    "To apply the Newton-Raphson algorithm, we need a function that returns a vector containing the **first and second derivatives** of the function with respect to the variable of interest (the second equation above, setting the derivative with respect to $\\alpha$ to zero). \n",
    "\n",
    "`psi` and `polygamma` are complex functions of the Gamma function that result when you take first and second derivatives of that function. Specifically, \n",
    "\n",
    "[scipy.special.psi](https://docs.scipy.org/doc/scipy/reference/generated/scipy.special.psi.html) = $\\frac{\\partial log(\\Gamma(\\alpha))}{\\partial\\alpha}$ and \n",
    "\n",
    "[scipy.special.polygamma](https://docs.scipy.org/doc/scipy/reference/generated/scipy.special.polygamma.html) = $\\frac{\\partial^2 log(\\Gamma(\\alpha))}{\\partial\\alpha^2}$\n",
    "\n",
    "and the derivative of the second equation above is:\n",
    "\n",
    "$$\\frac{\\partial^2 log(l)(\\alpha,\\beta)}{\\partial \\alpha^2} = \\frac{1}{\\alpha} - \\frac{\\partial^2 log(\\Gamma(\\alpha))}{\\partial\\alpha^2}$$"
   ]
  },
  {
   "cell_type": "code",
   "execution_count": 4,
   "id": "f6d63c0a",
   "metadata": {},
   "outputs": [],
   "source": [
    "from scipy.special import psi, polygamma\n",
    "\n",
    "# Note that log_mean and mean_log are parameters of the dlgamma function\n",
    "dlgamma = lambda m, log_mean, mean_log: np.log(m) - psi(m) - log_mean + mean_log\n",
    "dl2gamma = lambda m, *args: 1./m - polygamma(1, m)"
   ]
  },
  {
   "cell_type": "code",
   "execution_count": 5,
   "id": "ce988347",
   "metadata": {},
   "outputs": [],
   "source": [
    "# Calculate statistics\n",
    "log_mean = uv_index.mean().apply(np.log)\n",
    "mean_log = uv_index.apply(np.log).mean()"
   ]
  },
  {
   "cell_type": "code",
   "execution_count": 6,
   "id": "9649e5bc",
   "metadata": {},
   "outputs": [
    {
     "data": {
      "text/plain": [
       "2.7967466810657746"
      ]
     },
     "execution_count": 6,
     "metadata": {},
     "output_type": "execute_result"
    }
   ],
   "source": [
    "# Alpha MLE for Jan\n",
    "alpha_mle = newton(dlgamma, 2, dl2gamma, args=(log_mean[0], mean_log[0]))\n",
    "alpha_mle"
   ]
  },
  {
   "cell_type": "code",
   "execution_count": 7,
   "id": "95424574",
   "metadata": {},
   "outputs": [
    {
     "data": {
      "text/plain": [
       "0.7136932615612206"
      ]
     },
     "execution_count": 7,
     "metadata": {},
     "output_type": "execute_result"
    }
   ],
   "source": [
    "beta_mle = alpha_mle/uv_index.mean()[0]\n",
    "beta_mle"
   ]
  },
  {
   "cell_type": "code",
   "execution_count": 8,
   "id": "650e65d6",
   "metadata": {},
   "outputs": [
    {
     "data": {
      "text/plain": [
       "Jan    3.918696\n",
       "Feb    4.051652\n",
       "Mar    5.312435\n",
       "Apr    4.175478\n",
       "May    3.976000\n",
       "Jun    3.745478\n",
       "Jul    4.244174\n",
       "Aug    2.471913\n",
       "Sep    3.195304\n",
       "Oct    3.277391\n",
       "Nov    3.207739\n",
       "Dec    4.306696\n",
       "dtype: float64"
      ]
     },
     "execution_count": 8,
     "metadata": {},
     "output_type": "execute_result"
    }
   ],
   "source": [
    "uv_index_mean = uv_index.mean()\n",
    "uv_index_mean"
   ]
  },
  {
   "cell_type": "code",
   "execution_count": 9,
   "id": "5551013b",
   "metadata": {},
   "outputs": [
    {
     "data": {
      "text/plain": [
       "Jan    2.369142\n",
       "Feb    2.094699\n",
       "Mar    2.331898\n",
       "Apr    2.105032\n",
       "May    2.105642\n",
       "Jun    2.451850\n",
       "Jul    1.821925\n",
       "Aug    2.081607\n",
       "Sep    1.977573\n",
       "Oct    1.622018\n",
       "Nov    1.943346\n",
       "Dec    2.231765\n",
       "dtype: float64"
      ]
     },
     "execution_count": 9,
     "metadata": {},
     "output_type": "execute_result"
    }
   ],
   "source": [
    "uv_index_std = uv_index.std()\n",
    "uv_index_std"
   ]
  },
  {
   "cell_type": "code",
   "execution_count": 10,
   "id": "6919d6e6",
   "metadata": {},
   "outputs": [
    {
     "data": {
      "text/plain": [
       "Jan    5.612832\n",
       "Feb    4.387763\n",
       "Mar    5.437750\n",
       "Apr    4.431160\n",
       "May    4.433728\n",
       "Jun    6.011571\n",
       "Jul    3.319412\n",
       "Aug    4.333088\n",
       "Sep    3.910795\n",
       "Oct    2.630944\n",
       "Nov    3.776593\n",
       "Dec    4.980773\n",
       "dtype: float64"
      ]
     },
     "execution_count": 10,
     "metadata": {},
     "output_type": "execute_result"
    }
   ],
   "source": [
    "uv_index_var = uv_index.var()\n",
    "uv_index_var"
   ]
  },
  {
   "cell_type": "code",
   "execution_count": 11,
   "id": "87bde3be",
   "metadata": {},
   "outputs": [
    {
     "data": {
      "text/plain": [
       "(Jan    2.735905\n",
       " Feb    3.741288\n",
       " Mar    5.190007\n",
       " Apr    3.934550\n",
       " May    3.565527\n",
       " Jun    2.333601\n",
       " Jul    5.426567\n",
       " Aug    1.410162\n",
       " Sep    2.610714\n",
       " Oct    4.082677\n",
       " Nov    2.724569\n",
       " Dec    3.723845\n",
       " dtype: float64,\n",
       " Jan    1.432322\n",
       " Feb    1.082956\n",
       " Mar    1.023589\n",
       " Apr    1.061234\n",
       " May    1.115123\n",
       " Jun    1.605021\n",
       " Jul    0.782110\n",
       " Aug    1.752929\n",
       " Sep    1.223920\n",
       " Oct    0.802756\n",
       " Nov    1.177338\n",
       " Dec    1.156519\n",
       " dtype: float64)"
      ]
     },
     "execution_count": 11,
     "metadata": {},
     "output_type": "execute_result"
    }
   ],
   "source": [
    "alpha_mom = uv_index_mean ** 2 / uv_index_var\n",
    "beta_mom = uv_index_var / uv_index_mean\n",
    "alpha_mom, beta_mom"
   ]
  },
  {
   "cell_type": "code",
   "execution_count": 12,
   "id": "594e98bb",
   "metadata": {},
   "outputs": [
    {
     "data": {
      "text/plain": [
       "[<matplotlib.lines.Line2D at 0x7fc5159d19a0>]"
      ]
     },
     "execution_count": 12,
     "metadata": {},
     "output_type": "execute_result"
    },
    {
     "data": {
      "image/png": "[encoded data removed]",
      "text/plain": [
       "<Figure size 432x288 with 1 Axes>"
      ]
     },
     "metadata": {
      "needs_background": "light"
     },
     "output_type": "display_data"
    }
   ],
   "source": [
    "from scipy.stats.distributions import gamma\n",
    "\n",
    "Jan = uv_index.Jan\n",
    "Jan.hist(density=True, bins=10, grid=False)\n",
    "x = np.linspace(0, Jan.max())\n",
    "plt.ylabel('Y Axis', fontsize=12)\n",
    "plt.xlabel('X Axis', fontsize=12)\n",
    "plt.plot(x, gamma.pdf(x, alpha_mom[0], beta_mom[0]), 'g-')\n",
    "plt.plot(x, gamma.pdf(x, alpha_mle, beta_mle), 'r--')"
   ]
  },
  {
   "cell_type": "code",
   "execution_count": 13,
   "id": "9fe439e9",
   "metadata": {},
   "outputs": [
    {
     "data": {
      "text/plain": [
       "(2.744562522029737, 0.026409529797744132, 1.4181790255823477)"
      ]
     },
     "execution_count": 13,
     "metadata": {},
     "output_type": "execute_result"
    }
   ],
   "source": [
    "from scipy.stats import gamma\n",
    "\n",
    "gamma.fit(uv_index.Jan)"
   ]
  },
  {
   "cell_type": "markdown",
   "id": "545e4fb4",
   "metadata": {},
   "source": [
    "### Using pymc3 metod"
   ]
  },
  {
   "cell_type": "markdown",
   "id": "d3ea81f2",
   "metadata": {},
   "source": [
    "Added mean as 6 and standard deviation is 3\n",
    "Rest of the things are copied from prof. notebook."
   ]
  },
  {
   "cell_type": "code",
   "execution_count": 14,
   "id": "3dbaf896",
   "metadata": {},
   "outputs": [],
   "source": [
    "from pymc3 import Model, Uniform, Normal, StudentT\n",
    "\n",
    "with Model() as drug_model:\n",
    "    μ_0 = Normal('μ_0', 6, sd=3)\n",
    "    μ_1 = Normal('μ_1', 6, sd=3)"
   ]
  },
  {
   "cell_type": "code",
   "execution_count": 15,
   "id": "6619908d",
   "metadata": {},
   "outputs": [],
   "source": [
    "with drug_model:\n",
    "    σ_0 = Uniform('σ_0', lower=0, upper=5)\n",
    "    σ_1 = Uniform('σ_1', lower=0, upper=5)"
   ]
  },
  {
   "cell_type": "code",
   "execution_count": 16,
   "id": "ff1bc8f5",
   "metadata": {},
   "outputs": [
    {
     "name": "stderr",
     "output_type": "stream",
     "text": [
      "/Users/sushrutmujumdar/opt/anaconda3/lib/python3.8/site-packages/seaborn/distributions.py:2557: FutureWarning: `distplot` is a deprecated function and will be removed in a future version. Please adapt your code to use either `displot` (a figure-level function with similar flexibility) or `histplot` (an axes-level function for histograms).\n",
      "  warnings.warn(msg, FutureWarning)\n"
     ]
    },
    {
     "data": {
      "image/png": "[encoded data removed]",
      "text/plain": [
       "<Figure size 432x288 with 1 Axes>"
      ]
     },
     "metadata": {
      "needs_background": "light"
     },
     "output_type": "display_data"
    }
   ],
   "source": [
    "from pymc3 import Exponential\n",
    "sns.distplot(Exponential.dist(1/5).random(size=1000), kde=False);"
   ]
  },
  {
   "cell_type": "code",
   "execution_count": 17,
   "id": "2796a093",
   "metadata": {},
   "outputs": [],
   "source": [
    "with drug_model:\n",
    "    ν = Exponential('ν_minus_one', 1/5.) + 1"
   ]
  },
  {
   "cell_type": "code",
   "execution_count": 18,
   "id": "f95d4daa",
   "metadata": {},
   "outputs": [],
   "source": [
    "with drug_model:\n",
    "    drug_like = StudentT('drug_like', nu=ν, mu=μ_1, lam=σ_1**-2, observed=uv_index.Jan)\n",
    "    placebo_like = StudentT('placebo_like', nu=ν, mu=μ_0, lam=σ_0**-2, observed=uv_index.Dec)"
   ]
  },
  {
   "cell_type": "code",
   "execution_count": 19,
   "id": "9a49fe87",
   "metadata": {},
   "outputs": [],
   "source": [
    "from pymc3 import Deterministic\n",
    "    \n",
    "with drug_model:\n",
    "    diff_of_means = Deterministic('difference of means', μ_1 - μ_0)\n",
    "    effect_size = Deterministic('effect size', diff_of_means / np.sqrt((σ_1**2 + σ_0**2) / 2))"
   ]
  },
  {
   "cell_type": "markdown",
   "id": "f3cccedc",
   "metadata": {},
   "source": [
    "Random Seed size is given as 25000 due to laptop capacity. \n",
    "It taking long time if more seeds added."
   ]
  },
  {
   "cell_type": "code",
   "execution_count": 20,
   "id": "f3af0515",
   "metadata": {},
   "outputs": [
    {
     "data": {
      "text/html": [
       "\n",
       "    <div>\n",
       "        <style>\n",
       "            /* Turns off some styling */\n",
       "            progress {\n",
       "                /* gets rid of default border in Firefox and Opera. */\n",
       "                border: none;\n",
       "                /* Needs to be in here for Safari polyfill so background images work as expected. */\n",
       "                background-size: auto;\n",
       "            }\n",
       "            .progress-bar-interrupted, .progress-bar-interrupted::-webkit-progress-bar {\n",
       "                background: #F44336;\n",
       "            }\n",
       "        </style>\n",
       "      <progress value='10000' class='' max='10000' style='width:300px; height:20px; vertical-align: middle;'></progress>\n",
       "      100.00% [10000/10000 00:02<00:00 Average Loss = 526.83]\n",
       "    </div>\n",
       "    "
      ],
      "text/plain": [
       "<IPython.core.display.HTML object>"
      ]
     },
     "metadata": {},
     "output_type": "display_data"
    },
    {
     "name": "stderr",
     "output_type": "stream",
     "text": [
      "Finished [100%]: Average Loss = 526.8\n"
     ]
    }
   ],
   "source": [
    "from pymc3 import fit\n",
    "RANDOM_SEED = 25000\n",
    "with drug_model: \n",
    "    drug_trace = fit(random_seed=RANDOM_SEED).sample(1000)"
   ]
  },
  {
   "cell_type": "code",
   "execution_count": 21,
   "id": "7836c8b7",
   "metadata": {},
   "outputs": [
    {
     "name": "stderr",
     "output_type": "stream",
     "text": [
      "Got error No model on context stack. trying to find log_likelihood in translation.\n",
      "/Users/sushrutmujumdar/opt/anaconda3/lib/python3.8/site-packages/arviz/data/io_pymc3_3x.py:98: FutureWarning: Using `from_pymc3` without the model will be deprecated in a future release. Not using the model will return less accurate and less useful results. Make sure you use the model argument or call from_pymc3 within a model context.\n",
      "  warnings.warn(\n"
     ]
    },
    {
     "data": {
      "image/png": "[encoded data removed]",
      "text/plain": [
       "<Figure size 1490.4x662.4 with 6 Axes>"
      ]
     },
     "metadata": {
      "needs_background": "light"
     },
     "output_type": "display_data"
    }
   ],
   "source": [
    "from pymc3 import plot_posterior\n",
    "\n",
    "plot_posterior(drug_trace[100:], \n",
    "                var_names=['μ_0', 'μ_1', 'σ_0', 'σ_1', 'ν_minus_one'],\n",
    "                color='#87ceeb');"
   ]
  },
  {
   "cell_type": "code",
   "execution_count": 22,
   "id": "c67a6f29",
   "metadata": {},
   "outputs": [
    {
     "name": "stderr",
     "output_type": "stream",
     "text": [
      "Got error No model on context stack. trying to find log_likelihood in translation.\n",
      "/Users/sushrutmujumdar/opt/anaconda3/lib/python3.8/site-packages/arviz/data/io_pymc3_3x.py:98: FutureWarning: Using `from_pymc3` without the model will be deprecated in a future release. Not using the model will return less accurate and less useful results. Make sure you use the model argument or call from_pymc3 within a model context.\n",
      "  warnings.warn(\n"
     ]
    },
    {
     "data": {
      "image/png": "[encoded data removed]",
      "text/plain": [
       "<Figure size 993.6x331.2 with 2 Axes>"
      ]
     },
     "metadata": {
      "needs_background": "light"
     },
     "output_type": "display_data"
    }
   ],
   "source": [
    "plot_posterior(drug_trace[100:], \n",
    "          var_names=['difference of means', 'effect size'],\n",
    "          ref_val=0,\n",
    "          color='#87ceeb');"
   ]
  },
  {
   "cell_type": "markdown",
   "id": "349ce0af",
   "metadata": {},
   "source": [
    "### MOM VS MLE easiness\n",
    "\n",
    "MOM is easy to implement as compared to MLE.\n",
    "The implementation of MLE with scipy is fast and requires less time. \n",
    "While implementing using pymc3, its challenging and model creation is complex. "
   ]
  }
 ],
 "metadata": {
  "kernelspec": {
   "display_name": "Python 3 (ipykernel)",
   "language": "python",
   "name": "python3"
  },
  "language_info": {
   "codemirror_mode": {
    "name": "ipython",
    "version": 3
   },
   "file_extension": ".py",
   "mimetype": "text/x-python",
   "name": "python",
   "nbconvert_exporter": "python",
   "pygments_lexer": "ipython3",
   "version": "3.9.7"
  }
 },
 "nbformat": 4,
 "nbformat_minor": 5
}
